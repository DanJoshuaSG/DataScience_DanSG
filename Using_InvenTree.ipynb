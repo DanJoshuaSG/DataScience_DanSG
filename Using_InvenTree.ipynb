{
  "nbformat": 4,
  "nbformat_minor": 0,
  "metadata": {
    "colab": {
      "name": "Using InvenTree",
      "provenance": [],
      "authorship_tag": "ABX9TyMYxkjWrhhpXuo7MhzhZv+7",
      "include_colab_link": true
    },
    "kernelspec": {
      "name": "python3",
      "display_name": "Python 3"
    }
  },
  "cells": [
    {
      "cell_type": "markdown",
      "metadata": {
        "id": "view-in-github",
        "colab_type": "text"
      },
      "source": [
        "<a href=\"https://colab.research.google.com/github/DanJoshuaSG/DataScience_DanSG/blob/master/Using_InvenTree.ipynb\" target=\"_parent\"><img src=\"https://colab.research.google.com/assets/colab-badge.svg\" alt=\"Open In Colab\"/></a>"
      ]
    },
    {
      "cell_type": "code",
      "metadata": {
        "id": "GM31fOdZKZI8",
        "colab_type": "code",
        "colab": {}
      },
      "source": [
        ""
      ],
      "execution_count": 0,
      "outputs": []
    },
    {
      "cell_type": "markdown",
      "metadata": {
        "id": "_mAQjooPON5C",
        "colab_type": "text"
      },
      "source": [
        "Este notebook tiene como finalidad aplicar el InvenTree"
      ]
    },
    {
      "cell_type": "code",
      "metadata": {
        "id": "xYPcUhsLOXZG",
        "colab_type": "code",
        "outputId": "e5388898-b69f-4611-f67c-f93bda8cd444",
        "colab": {
          "base_uri": "https://localhost:8080/",
          "height": 229
        }
      },
      "source": [
        "import random\n",
        "import string\n",
        "import os\n",
        "import sys\n",
        "import argparse\n",
        "from shutil import copyfile\n",
        "\n",
        "OUTPUT_DIR = os.path.dirname(os.path.realpath(__file__))\n",
        "\n",
        "KEY_FN = 'secret_key.txt'\n",
        "CONFIG_FN = 'config.yaml'\n",
        "CONFIG_TEMPLATE_FN = 'config_template.yaml'\n",
        "\n",
        "\n",
        "def generate_key(length=50):\n",
        "    \"\"\" Generate a random string\n",
        "    Args:\n",
        "        length: Number of characters in returned string (default = 50)\n",
        "    Returns:\n",
        "        Randomized secret key string\n",
        "    \"\"\"\n",
        "\n",
        "    options = string.digits + string.ascii_letters + string.punctuation\n",
        "    key = ''.join([random.choice(options) for i in range(length)])\n",
        "    return key\n",
        "\n",
        "\n",
        "if __name__ == '__main__':\n",
        "    \n",
        "    parser = argparse.ArgumentParser(description='Generate Django SECRET_KEY file')\n",
        "    parser.add_argument('--force', '-f', help='Override existing files', action='store_true')\n",
        "    parser.add_argument('--dummy', '-d', help='Dummy run (do not create any files)', action='store_true')\n",
        "    \n",
        "    args = parser.parse_args()\n",
        "\n",
        "    # Places to store files\n",
        "    key_filename = os.path.join(OUTPUT_DIR, KEY_FN)\n",
        "    conf_template = os.path.join(OUTPUT_DIR, CONFIG_TEMPLATE_FN)\n",
        "    conf_filename = os.path.join(OUTPUT_DIR, CONFIG_FN)\n",
        "    \n",
        "    # Generate secret key data\n",
        "    key_data = generate_key()\n",
        "\n",
        "    if args.dummy:\n",
        "        print('SECRET_KEY: {k}'.format(k=key_data))\n",
        "        sys.exit(0)\n",
        "\n",
        "    if not args.force and os.path.exists(key_filename):\n",
        "        print(\"Key file already exists - '{f}'\".format(f=key_filename))\n",
        "    else:\n",
        "        with open(key_filename, 'w') as key_file:\n",
        "            print(\"Generating SECRET_KEY file - '{f}'\".format(f=key_filename))\n",
        "            key_file.write(key_data)\n",
        "\n",
        "    if not args.force and os.path.exists(conf_filename):\n",
        "        print(\"Config file already exists (skipping)\")\n",
        "    else:\n",
        "        print(\"Copying config template to 'config.yaml'\")\n",
        "        copyfile(conf_template, conf_filename)"
      ],
      "execution_count": 0,
      "outputs": [
        {
          "output_type": "error",
          "ename": "NameError",
          "evalue": "ignored",
          "traceback": [
            "\u001b[0;31m---------------------------------------------------------------------------\u001b[0m",
            "\u001b[0;31mNameError\u001b[0m                                 Traceback (most recent call last)",
            "\u001b[0;32m<ipython-input-1-52676457ce5c>\u001b[0m in \u001b[0;36m<module>\u001b[0;34m()\u001b[0m\n\u001b[1;32m      6\u001b[0m \u001b[0;32mfrom\u001b[0m \u001b[0mshutil\u001b[0m \u001b[0;32mimport\u001b[0m \u001b[0mcopyfile\u001b[0m\u001b[0;34m\u001b[0m\u001b[0;34m\u001b[0m\u001b[0m\n\u001b[1;32m      7\u001b[0m \u001b[0;34m\u001b[0m\u001b[0m\n\u001b[0;32m----> 8\u001b[0;31m \u001b[0mOUTPUT_DIR\u001b[0m \u001b[0;34m=\u001b[0m \u001b[0mos\u001b[0m\u001b[0;34m.\u001b[0m\u001b[0mpath\u001b[0m\u001b[0;34m.\u001b[0m\u001b[0mdirname\u001b[0m\u001b[0;34m(\u001b[0m\u001b[0mos\u001b[0m\u001b[0;34m.\u001b[0m\u001b[0mpath\u001b[0m\u001b[0;34m.\u001b[0m\u001b[0mrealpath\u001b[0m\u001b[0;34m(\u001b[0m\u001b[0m__file__\u001b[0m\u001b[0;34m)\u001b[0m\u001b[0;34m)\u001b[0m\u001b[0;34m\u001b[0m\u001b[0;34m\u001b[0m\u001b[0m\n\u001b[0m\u001b[1;32m      9\u001b[0m \u001b[0;34m\u001b[0m\u001b[0m\n\u001b[1;32m     10\u001b[0m \u001b[0mKEY_FN\u001b[0m \u001b[0;34m=\u001b[0m \u001b[0;34m'secret_key.txt'\u001b[0m\u001b[0;34m\u001b[0m\u001b[0;34m\u001b[0m\u001b[0m\n",
            "\u001b[0;31mNameError\u001b[0m: name '__file__' is not defined"
          ]
        }
      ]
    }
  ]
}